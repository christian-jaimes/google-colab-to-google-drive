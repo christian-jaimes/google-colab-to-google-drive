{
  "cells": [
    {
      "cell_type": "markdown",
      "metadata": {
        "id": "mZtaP-IfcfX7"
      },
      "source": [
        "### Install and import the necessary libraries."
      ]
    },
    {
      "cell_type": "code",
      "execution_count": 7,
      "metadata": {
        "id": "zt3HUdDi9Xi9"
      },
      "outputs": [],
      "source": [
        "# Install python libraries\n",
        "!pip install gspread &> /dev/null\n",
        "!pip install gspread-dataframe &> /dev/null"
      ]
    },
    {
      "cell_type": "code",
      "execution_count": 98,
      "metadata": {
        "id": "arK_n_dw9bYl"
      },
      "outputs": [],
      "source": [
        "import pandas as pd\n",
        "import gspread # Python API for Google Sheets.\n",
        "from google.colab import auth # to autheticate google account\n",
        "from google.auth import default # to autheticate google account\n",
        "from gspread_dataframe import set_with_dataframe, get_as_dataframe # To save dataframes to Gsheets"
      ]
    },
    {
      "cell_type": "markdown",
      "metadata": {
        "id": "5NOl0h_ic0QY"
      },
      "source": [
        "### Connects and authenticates to Google"
      ]
    },
    {
      "cell_type": "code",
      "execution_count": 99,
      "metadata": {
        "id": "HvNfkEJW9cuH"
      },
      "outputs": [],
      "source": [
        "# Authenticator to be able to access google drive\n",
        "auth.authenticate_user()\n",
        "credentials,_ = default() #asigning variable \"_\" to catch any other things the credentials might have\n",
        "\n",
        "gconn = gspread.authorize(credentials)"
      ]
    },
    {
      "cell_type": "markdown",
      "metadata": {
        "id": "6E1Dr6-idKQr"
      },
      "source": [
        "Function spreadsheet_exists checks if the spreadsheet name already exsits"
      ]
    },
    {
      "cell_type": "code",
      "execution_count": 100,
      "metadata": {
        "id": "zg6Z6QCGLZtN"
      },
      "outputs": [],
      "source": [
        "def spreadsheet_exists(spreadsheet_name):\n",
        "  try:\n",
        "      gconn.open(spreadsheet_name)\n",
        "      exists = True\n",
        "  except gspread.exceptions.SpreadsheetNotFound:\n",
        "      exists = False\n",
        "  return exists"
      ]
    },
    {
      "cell_type": "markdown",
      "metadata": {
        "id": "2feDSN0ZcY-X"
      },
      "source": [
        "### Random dataframe"
      ]
    },
    {
      "cell_type": "code",
      "execution_count": 101,
      "metadata": {
        "id": "hHGftLxH9eLC"
      },
      "outputs": [],
      "source": [
        "import numpy as np\n",
        "\n",
        "# Create a dictionary with 5 columns of random data\n",
        "data = {\n",
        "    'Column1': np.random.rand(20),\n",
        "    'Column2': np.random.randint(1, 100, 20),\n",
        "    'Column3': np.random.choice(['A', 'B', 'C', 'D'], 20),\n",
        "    'Column4': np.random.uniform(0, 1, 20),\n",
        "    'Column5': np.random.randn(20)\n",
        "}\n",
        "\n",
        "# Create a pandas DataFrame from the dictionary\n",
        "sample_df = pd.DataFrame(data)"
      ]
    },
    {
      "cell_type": "markdown",
      "metadata": {
        "id": "g4pFSM80E3TW"
      },
      "source": [
        "### Create a google sheet"
      ]
    },
    {
      "cell_type": "code",
      "execution_count": 102,
      "metadata": {
        "id": "zn9QSE5i-5p5"
      },
      "outputs": [],
      "source": [
        "spreadsheet_name = 'spreadsheet name'\n",
        "sheet_name = 'sheet name'\n",
        "\n",
        "if spreadsheet_exists(spreadsheet_name):\n",
        "  print(f'This spreadsheet already exist')\n",
        "else:\n",
        "  gconn.create(spreadsheet_name)\n",
        "  worksheet = gconn.open(spreadsheet_name).sheet1\n",
        "  worksheet.update_title(sheet_name)\n",
        "  worksheet.format(f'A1:Z1', {'textFormat': {'bold': True}})\n",
        "  set_with_dataframe(worksheet, sample_df)"
      ]
    },
    {
      "cell_type": "markdown",
      "metadata": {
        "id": "_QXmJxo4E-j8"
      },
      "source": [
        "### Append data to an existing google spreadsheet"
      ]
    },
    {
      "cell_type": "code",
      "execution_count": 129,
      "metadata": {
        "id": "qTp5oWBw9fi7"
      },
      "outputs": [],
      "source": [
        "spreadsheet_name = 'spreadsheet name'\n",
        "sheet_name = 'sheet name'\n",
        "\n",
        "# Opens a file and calculates the number of rows to append the data everytime ir runs.\n",
        "spreadsheet_file = gconn.open(spreadsheet_name).worksheet(sheet_name)\n",
        "file_len = len(spreadsheet_file.get_all_values())\n",
        "\n",
        "# Checks the file len if > 0 appends if less adds also the headers\n",
        "if file_len > 0:\n",
        "  set_with_dataframe(spreadsheet_file,sample_df, row = file_len, include_column_header = False)\n",
        "else:\n",
        "  set_with_dataframe(spreadsheet_file,sample_df, include_column_header = True)"
      ]
    }
  ],
  "metadata": {
    "colab": {
      "provenance": []
    },
    "kernelspec": {
      "display_name": "Python 3",
      "name": "python3"
    },
    "language_info": {
      "name": "python",
      "version": "3.11.5"
    }
  },
  "nbformat": 4,
  "nbformat_minor": 0
}
